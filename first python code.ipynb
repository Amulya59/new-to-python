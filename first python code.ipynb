{
 "cells": [
  {
   "cell_type": "code",
   "execution_count": 7,
   "id": "47ce4710",
   "metadata": {},
   "outputs": [],
   "source": [
    "#comments this are used know about the modules"
   ]
  },
  {
   "cell_type": "code",
   "execution_count": 6,
   "id": "fba7262b",
   "metadata": {},
   "outputs": [],
   "source": [
    "#multiline comments are not allowed\n",
    "#in python\n",
    "#type hastag for the each line"
   ]
  },
  {
   "cell_type": "code",
   "execution_count": 5,
   "id": "59ca4a35",
   "metadata": {},
   "outputs": [
    {
     "name": "stdout",
     "output_type": "stream",
     "text": [
      "This all are comments\n"
     ]
    }
   ],
   "source": [
    "\"\"\" Or you can you\n",
    "three quotes before and after\n",
    "the multilines of comment\n",
    "because undefined string are not assigned variable\"\"\"\n",
    "\n",
    "print(\"This all are comments\")"
   ]
  },
  {
   "cell_type": "code",
   "execution_count": 1,
   "id": "50241ae6",
   "metadata": {},
   "outputs": [
    {
     "name": "stdout",
     "output_type": "stream",
     "text": [
      "Hello! I am Amulya new to coding\n",
      "I would like to explore the field of python\n"
     ]
    }
   ],
   "source": [
    "#output syntax\n",
    "\n",
    "print(\"Hello! I am Amulya new to coding\")\n",
    "print(\"I would like to explore the field of python\")"
   ]
  },
  {
   "cell_type": "code",
   "execution_count": 2,
   "id": "b28abc23",
   "metadata": {},
   "outputs": [
    {
     "name": "stdout",
     "output_type": "stream",
     "text": [
      "15 is greater\n"
     ]
    }
   ],
   "source": [
    "#python indentation refers space begining of the line\n",
    "\n",
    "if 10<15:\n",
    "    print(\"15 is greater\")"
   ]
  },
  {
   "cell_type": "code",
   "execution_count": 3,
   "id": "c61f60cc",
   "metadata": {},
   "outputs": [
    {
     "ename": "IndentationError",
     "evalue": "expected an indented block (2912589022.py, line 4)",
     "output_type": "error",
     "traceback": [
      "\u001b[1;36m  Input \u001b[1;32mIn [3]\u001b[1;36m\u001b[0m\n\u001b[1;33m    print(\"2 is greater\")\u001b[0m\n\u001b[1;37m    ^\u001b[0m\n\u001b[1;31mIndentationError\u001b[0m\u001b[1;31m:\u001b[0m expected an indented block\n"
     ]
    }
   ],
   "source": [
    "#removing space in the indentation will gives the error \n",
    "\n",
    "if 2>1:\n",
    "print(\"2 is greater\")"
   ]
  },
  {
   "cell_type": "code",
   "execution_count": 4,
   "id": "36816de7",
   "metadata": {},
   "outputs": [
    {
     "name": "stdout",
     "output_type": "stream",
     "text": [
      "5\n",
      "I am Amulya\n"
     ]
    }
   ],
   "source": [
    "#python variables created to assign value\n",
    "\n",
    "a=5\n",
    "b=(\"I am Amulya\")\n",
    "print(a)\n",
    "print(b)"
   ]
  },
  {
   "cell_type": "code",
   "execution_count": null,
   "id": "6e7acb33",
   "metadata": {},
   "outputs": [],
   "source": []
  }
 ],
 "metadata": {
  "kernelspec": {
   "display_name": "Python 3 (ipykernel)",
   "language": "python",
   "name": "python3"
  },
  "language_info": {
   "codemirror_mode": {
    "name": "ipython",
    "version": 3
   },
   "file_extension": ".py",
   "mimetype": "text/x-python",
   "name": "python",
   "nbconvert_exporter": "python",
   "pygments_lexer": "ipython3",
   "version": "3.9.12"
  }
 },
 "nbformat": 4,
 "nbformat_minor": 5
}
